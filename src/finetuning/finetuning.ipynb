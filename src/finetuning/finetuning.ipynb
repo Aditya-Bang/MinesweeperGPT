{
 "cells": [
  {
   "cell_type": "code",
   "execution_count": 1,
   "id": "68aa2552",
   "metadata": {},
   "outputs": [],
   "source": [
    "import sys\n",
    "import os\n",
    "\n",
    "project_root = os.path.abspath(os.path.join(os.getcwd(), \"..\", \"..\"))\n",
    "if project_root not in sys.path:\n",
    "    sys.path.insert(0, project_root)"
   ]
  },
  {
   "cell_type": "code",
   "execution_count": 2,
   "id": "000b7a61",
   "metadata": {},
   "outputs": [
    {
     "name": "stdout",
     "output_type": "stream",
     "text": [
      "\u001b[2mUsing Python 3.12.11 environment at: /home/abangubuntu/MinesweeperGPT/.venv\u001b[0m\n",
      "accelerate                               1.7.0\n",
      "fastrlock                                0.8.3\n",
      "torch                                    2.6.0+cu124\n",
      "torchao                                  0.12.0\n",
      "torchaudio                               2.6.0+cu124\n",
      "torchvision                              0.21.0+cu124\n",
      "transformers                             4.51.3\n",
      "triton                                   3.2.0\n",
      "trl                                      0.18.1\n",
      "unsloth                                  2025.6.2\n",
      "unsloth-zoo                              2025.6.1\n",
      "vllm                                     0.8.5.post1\n",
      "xformers                                 0.0.29.post2\n"
     ]
    }
   ],
   "source": [
    "!uv pip list | grep -E 'torch|triton|vllm|unsloth|transformers|xformers|accelerate|trl'"
   ]
  },
  {
   "cell_type": "code",
   "execution_count": 3,
   "id": "d6d5f39b",
   "metadata": {},
   "outputs": [
    {
     "name": "stdout",
     "output_type": "stream",
     "text": [
      "🦥 Unsloth: Will patch your computer to enable 2x faster free finetuning.\n",
      "🦥 Unsloth Zoo will now patch everything to make training faster!\n",
      "INFO 08-24 16:39:48 [importing.py:53] Triton module has been replaced with a placeholder.\n",
      "INFO 08-24 16:39:48 [__init__.py:239] Automatically detected platform cuda.\n"
     ]
    }
   ],
   "source": [
    "import torch\n",
    "from unsloth import FastLanguageModel"
   ]
  },
  {
   "cell_type": "code",
   "execution_count": 4,
   "id": "a5e8563d",
   "metadata": {},
   "outputs": [
    {
     "name": "stdout",
     "output_type": "stream",
     "text": [
      "==((====))==  Unsloth 2025.6.2: Fast Qwen3 patching. Transformers: 4.51.3. vLLM: 0.8.5.post1.\n",
      "   \\\\   /|    Quadro T1000 with Max-Q Design. Num GPUs = 1. Max memory: 4.0 GB. Platform: Linux.\n",
      "O^O/ \\_/ \\    Torch: 2.6.0+cu124. CUDA: 7.5. CUDA Toolkit: 12.4. Triton: 3.2.0\n",
      "\\        /    Bfloat16 = FALSE. FA [Xformers = 0.0.29.post2. FA2 = False]\n",
      " \"-____-\"     Free license: http://github.com/unslothai/unsloth\n",
      "Unsloth: Fast downloading is enabled - ignore downloading bars which are red colored!\n",
      "Unsloth: vLLM loading unsloth/qwen3-1.7b-unsloth-bnb-4bit with actual GPU utilization = 59.82%\n",
      "Unsloth: Your GPU has CUDA compute capability 7.5 with VRAM = 4.0 GB.\n",
      "Unsloth: Using conservativeness = 1.0. Chunked prefill tokens = 512. Num Sequences = 128.\n",
      "Unsloth: vLLM's KV Cache can use up to 0.93 GB. Also swap space = 0 GB.\n",
      "WARNING 08-24 16:39:55 [config.py:2972] Casting torch.bfloat16 to torch.float16.\n",
      "INFO 08-24 16:40:02 [config.py:717] This model supports multiple tasks: {'embed', 'generate', 'reward', 'score', 'classify'}. Defaulting to 'generate'.\n",
      "WARNING 08-24 16:40:02 [arg_utils.py:1658] Compute Capability < 8.0 is not supported by the V1 Engine. Falling back to V0. \n",
      "Unsloth: vLLM Bitsandbytes config using kwargs = {'load_in_8bit': False, 'load_in_4bit': True, 'bnb_4bit_compute_dtype': 'float16', 'bnb_4bit_quant_storage': 'uint8', 'bnb_4bit_quant_type': 'nf4', 'bnb_4bit_use_double_quant': True, 'llm_int8_enable_fp32_cpu_offload': False, 'llm_int8_has_fp16_weight': False, 'llm_int8_skip_modules': ['lm_head', 'multi_modal_projector', 'merger', 'modality_projection', 'model.layers.2.mlp'], 'llm_int8_threshold': 6.0}\n",
      "INFO 08-24 16:40:02 [llm_engine.py:240] Initializing a V0 LLM engine (v0.8.5.post1) with config: model='unsloth/qwen3-1.7b-unsloth-bnb-4bit', speculative_config=None, tokenizer='unsloth/qwen3-1.7b-unsloth-bnb-4bit', skip_tokenizer_init=False, tokenizer_mode=auto, revision=None, override_neuron_config=None, tokenizer_revision=None, trust_remote_code=False, dtype=torch.float16, max_seq_len=512, download_dir=None, load_format=LoadFormat.BITSANDBYTES, tensor_parallel_size=1, pipeline_parallel_size=1, disable_custom_all_reduce=False, quantization=bitsandbytes, enforce_eager=False, kv_cache_dtype=auto,  device_config=cuda:0, decoding_config=DecodingConfig(guided_decoding_backend='auto', reasoning_backend=None), observability_config=ObservabilityConfig(show_hidden_metrics=False, otlp_traces_endpoint=None, collect_model_forward_time=False, collect_model_execute_time=False), seed=0, served_model_name=unsloth/qwen3-1.7b-unsloth-bnb-4bit, num_scheduler_steps=1, multi_step_stream_outputs=True, enable_prefix_caching=True, chunked_prefill_enabled=False, use_async_output_proc=True, disable_mm_preprocessor_cache=False, mm_processor_kwargs=None, pooler_config=None, compilation_config={\"level\":0,\"backend\":\"inductor\",\"splitting_ops\":[],\"use_inductor\":true,\"compile_sizes\":[],\"inductor_compile_config\":{\"debug\":false,\"dce\":true,\"coordinate_descent_tuning\":true,\"trace.enabled\":false,\"trace.graph_diagram\":false,\"triton.cudagraphs\":true,\"compile_threads\":48,\"max_autotune\":false,\"disable_progress\":false,\"verbose_progress\":true,\"enable_auto_functionalized_v2\":false},\"use_cudagraph\":true,\"cudagraph_num_of_warmups\":1,\"cudagraph_capture_sizes\":[128,120,112,104,96,88,80,72,64,56,48,40,32,24,16,8,4,2,1],\"max_capture_size\":128}, use_cached_outputs=False, \n",
      "WARNING 08-24 16:40:03 [interface.py:314] Using 'pin_memory=False' as WSL is detected. This may slow down the performance.\n",
      "INFO 08-24 16:40:03 [cuda.py:240] Cannot use FlashAttention-2 backend for Volta and Turing GPUs.\n",
      "INFO 08-24 16:40:03 [cuda.py:289] Using XFormers backend.\n",
      "INFO 08-24 16:40:03 [parallel_state.py:1004] rank 0 in world size 1 is assigned as DP rank 0, PP rank 0, TP rank 0\n",
      "INFO 08-24 16:40:03 [model_runner.py:1108] Starting to load model unsloth/qwen3-1.7b-unsloth-bnb-4bit...\n",
      "INFO 08-24 16:40:04 [loader.py:1187] Loading weights with BitsAndBytes quantization. May take a while ...\n",
      "INFO 08-24 16:40:04 [weight_utils.py:265] Using model weights format ['*.safetensors']\n",
      "INFO 08-24 16:40:04 [weight_utils.py:315] No model.safetensors.index.json found in remote.\n"
     ]
    },
    {
     "data": {
      "application/vnd.jupyter.widget-view+json": {
       "model_id": "1ee55e15477444559a9ab764aac68d66",
       "version_major": 2,
       "version_minor": 0
      },
      "text/plain": [
       "Loading safetensors checkpoint shards:   0% Completed | 0/1 [00:00<?, ?it/s]\n"
      ]
     },
     "metadata": {},
     "output_type": "display_data"
    },
    {
     "data": {
      "application/vnd.jupyter.widget-view+json": {
       "model_id": "d78517ee37194a439d6bedab733e352a",
       "version_major": 2,
       "version_minor": 0
      },
      "text/plain": [
       "Loading safetensors checkpoint shards:   0% Completed | 0/1 [00:00<?, ?it/s]\n"
      ]
     },
     "metadata": {},
     "output_type": "display_data"
    },
    {
     "name": "stdout",
     "output_type": "stream",
     "text": [
      "INFO 08-24 16:40:06 [punica_selector.py:18] Using PunicaWrapperGPU.\n",
      "INFO 08-24 16:40:07 [model_runner.py:1140] Model loading took 1.3985 GiB and 3.251033 seconds\n",
      "INFO 08-24 16:40:15 [worker.py:287] Memory profiling takes 8.39 seconds\n",
      "INFO 08-24 16:40:15 [worker.py:287] the current vLLM instance can use total_gpu_memory (4.00GiB) x gpu_memory_utilization (0.60) = 2.39GiB\n",
      "INFO 08-24 16:40:15 [worker.py:287] model weights take 1.40GiB; non_torch_memory takes 0.02GiB; PyTorch activation peak memory takes 0.70GiB; the rest of the memory reserved for KV Cache is 0.28GiB.\n",
      "INFO 08-24 16:40:16 [executor_base.py:112] # cuda blocks: 161, # CPU blocks: 0\n",
      "INFO 08-24 16:40:16 [executor_base.py:117] Maximum concurrency for 512 tokens per request: 5.03x\n",
      "INFO 08-24 16:40:16 [model_runner.py:1450] Capturing cudagraphs for decoding. This may lead to unexpected consequences if the model is not static. To run the model in eager mode, set 'enforce_eager=True' or use '--enforce-eager' in the CLI. If out-of-memory error occurs during cudagraph capture, consider decreasing `gpu_memory_utilization` or switching to eager mode. You can also reduce the `max_num_seqs` as needed to decrease memory usage.\n"
     ]
    },
    {
     "data": {
      "application/vnd.jupyter.widget-view+json": {
       "model_id": "a5e6a1d7ec3e406dbf9173b4df50b436",
       "version_major": 2,
       "version_minor": 0
      },
      "text/plain": [
       "Capturing CUDA graph shapes:   0%|          | 0/19 [00:00<?, ?it/s]"
      ]
     },
     "metadata": {},
     "output_type": "display_data"
    },
    {
     "name": "stdout",
     "output_type": "stream",
     "text": [
      "INFO 08-24 16:40:57 [model_runner.py:1592] Graph capturing finished in 47 secs, took 0.39 GiB\n",
      "INFO 08-24 16:40:57 [llm_engine.py:437] init engine (profile, create kv cache, warmup model) took 50.72 seconds\n",
      "Unsloth: Just some info: will skip parsing ['post_feedforward_layernorm', 'pre_feedforward_layernorm']\n",
      "Unsloth: Just some info: will skip parsing ['post_feedforward_layernorm', 'pre_feedforward_layernorm']\n"
     ]
    }
   ],
   "source": [
    "max_seq_length = 512  # Can increase for longer reasoning traces\n",
    "lora_rank = 32         # Larger rank = smarter, but slower\n",
    "\n",
    "# Load model + tokenizer with vLLM acceleration\n",
    "model, tokenizer = FastLanguageModel.from_pretrained(\n",
    "    model_name = \"unsloth/Qwen3-1.7B\",\n",
    "    max_seq_length = max_seq_length,\n",
    "    load_in_4bit = True,       # False for LoRA 16bit\n",
    "    fast_inference = True,      # Enable vLLM fast inference\n",
    "    max_lora_rank = lora_rank,\n",
    "    gpu_memory_utilization = 0.75, # Reduce if out of memory\n",
    ")"
   ]
  },
  {
   "cell_type": "code",
   "execution_count": 5,
   "id": "9a9dbaf8",
   "metadata": {},
   "outputs": [],
   "source": [
    "class NoThinkTokenizerWrapper:\n",
    "    def __init__(self, tokenizer):\n",
    "        self.tokenizer = tokenizer\n",
    "\n",
    "    def __getattr__(self, name):\n",
    "        return getattr(self.tokenizer, name)\n",
    "    \n",
    "    def __call__(self, *args, **kwargs):\n",
    "        return self.tokenizer(*args, **kwargs)\n",
    "\n",
    "    def apply_chat_template(self, messages, tokenize=False, add_generation_prompt=True, **kwargs):\n",
    "        return self.tokenizer.apply_chat_template(\n",
    "            messages,\n",
    "            tokenize=tokenize,\n",
    "            add_generation_prompt=add_generation_prompt,\n",
    "            enable_thinking=False,   # force disable thinking\n",
    "            **kwargs\n",
    "        )\n",
    "\n",
    "no_think_tokenizer = NoThinkTokenizerWrapper(tokenizer)"
   ]
  },
  {
   "cell_type": "code",
   "execution_count": 6,
   "id": "61c4303d",
   "metadata": {},
   "outputs": [
    {
     "name": "stdout",
     "output_type": "stream",
     "text": [
      "Number of tokens: 373\n",
      "output: row: 1, col: 1, action: reveal\n"
     ]
    }
   ],
   "source": [
    "from src.finetuning.prompt import SYSTEM_PROMPT\n",
    "messages = [\n",
    "    {\"role\": \"system\", \"content\": SYSTEM_PROMPT},\n",
    "    {\"role\": \"user\", \"content\": \"\"\"\n",
    "Here is the current minesweeper board:\n",
    "\n",
    "Row 1: * * 2 F H\n",
    "Row 2: * * 3 H H\n",
    "Row 3: * * 2 H H\n",
    "Row 4: 1 1 1 H H\n",
    "Row 5: H H H H H\n",
    "\"\"\"}\n",
    "]\n",
    "\n",
    "# Apply chat template, enabling thinking mode\n",
    "text = no_think_tokenizer.apply_chat_template(\n",
    "    messages,\n",
    "    tokenize=False,\n",
    "    add_generation_prompt=True,\n",
    ")\n",
    "\n",
    "# Tokenize input\n",
    "inputs = no_think_tokenizer([text], return_tensors=\"pt\").to(model.device)\n",
    "print(\"Number of tokens:\", len(inputs[\"input_ids\"][0]))\n",
    "\n",
    "\n",
    "# Generate\n",
    "generated_ids = model.generate(\n",
    "    **inputs,\n",
    "    max_new_tokens=512,\n",
    ")\n",
    "\n",
    "# Extract only the new tokens\n",
    "output_ids = generated_ids[0][len(inputs.input_ids[0]):].tolist()\n",
    "decoded_output = no_think_tokenizer.decode(output_ids, skip_special_tokens=True).strip(\"\\n\")\n",
    "print(\"output:\", decoded_output)\n",
    "\n",
    "# # Extract solution block\n",
    "# import re\n",
    "# match = re.search(r\"<SOLUTION>(.*?)</SOLUTION>\", decoded_output, re.DOTALL)\n",
    "# if match:\n",
    "#     move = match.group(1).strip()\n",
    "# else:\n",
    "#     move = decoded_output  # fallback if tags missing\n",
    "\n",
    "# print(\"final move:\", move)\n",
    "\n"
   ]
  },
  {
   "cell_type": "code",
   "execution_count": 7,
   "id": "ecd1f112",
   "metadata": {},
   "outputs": [
    {
     "name": "stderr",
     "output_type": "stream",
     "text": [
      "Unsloth 2025.6.2 patched 28 layers with 28 QKV layers, 28 O layers and 28 MLP layers.\n"
     ]
    }
   ],
   "source": [
    "model = FastLanguageModel.get_peft_model(\n",
    "    model,\n",
    "    r=lora_rank,  # Choose any number > 0 ! Suggested 8, 16, 32, 64, 128\n",
    "    target_modules=[\n",
    "        \"q_proj\",\n",
    "        \"k_proj\",\n",
    "        \"v_proj\",\n",
    "        \"o_proj\",\n",
    "        \"gate_proj\",\n",
    "        \"up_proj\",\n",
    "        \"down_proj\",\n",
    "    ],  # Remove QKVO if out of memory\n",
    "    lora_alpha=lora_rank,\n",
    "    use_gradient_checkpointing=\"unsloth\",  # Enable long context finetuning\n",
    "    random_state=3407,\n",
    ")"
   ]
  },
  {
   "cell_type": "code",
   "execution_count": 8,
   "id": "018d0fd3",
   "metadata": {},
   "outputs": [
    {
     "name": "stdout",
     "output_type": "stream",
     "text": [
      "Using data directory: /home/abangubuntu/MinesweeperGPT/data\n",
      "Data directory exists: /home/abangubuntu/MinesweeperGPT/data\n",
      "Found 23 game directories in /home/abangubuntu/MinesweeperGPT/data\n",
      "{'board_state': [['0', '0', '0', '2', 'F'],\n",
      "                 ['0', '0', '1', '3', 'F'],\n",
      "                 ['0', '0', '1', 'F', '3'],\n",
      "                 ['2', '3', '3', '4', '*'],\n",
      "                 ['*', '*', '*', '*', '*'],\n",
      "                 []],\n",
      " 'hidden_state': [['0', '0', '0', '2', 'M'],\n",
      "                  ['0', '0', '1', '3', 'M'],\n",
      "                  ['0', '0', '1', 'M', '3'],\n",
      "                  ['2', '3', '3', '4', 'M'],\n",
      "                  ['M', 'M', 'M', '3', 'M']],\n",
      " 'prompt': [{'content': 'You are a Minesweeper assistant.\\n'\n",
      "                        'The game board is always 5x5 in size.\\n'\n",
      "                        'You will be given ONLY the current board state as '\n",
      "                        'input from the user.\\n'\n",
      "                        '\\n'\n",
      "                        'Your task: Suggest exactly ONE valid next move for '\n",
      "                        'the minesweeper board given by the user.\\n'\n",
      "                        '\\n'\n",
      "                        'Move format rules (must follow exactly one of these '\n",
      "                        'two):\\n'\n",
      "                        '1. \"row: NUM, col: NUM, action: reveal\"       → to '\n",
      "                        'reveal a cell\\n'\n",
      "                        '2. \"row: NUM, col: NUM, action: flag\"         → to '\n",
      "                        'flag a cell as a mine\\n'\n",
      "                        '\\n'\n",
      "                        'Board representation:\\n'\n",
      "                        \"- '*' means the tile has not been revealed yet.\\n\"\n",
      "                        '- Numbers 0–8 show how many mines are adjacent to '\n",
      "                        'that square.\\n'\n",
      "                        \"- 'F' means the tile has already been flagged as a \"\n",
      "                        'mine.\\n'\n",
      "                        '- The board will be displayed as a grid of symbols '\n",
      "                        'only.\\n'\n",
      "                        '\\n'\n",
      "                        'Important condition:\\n'\n",
      "                        '- You may only suggest moves on cells that contain '\n",
      "                        \"'*'.  \\n\"\n",
      "                        '- Do NOT suggest moves on numbers or flagged tiles, '\n",
      "                        'as these have already been revealed or correctly '\n",
      "                        'flagged.\\n'\n",
      "                        '\\n'\n",
      "                        'Summary:\\n'\n",
      "                        '- Suggest one valid move next with the format \"row: '\n",
      "                        'NUM, col: NUM, action: reveal\" or \"row: NUM, col: '\n",
      "                        'NUM, action: flag\", where NUM is an integer in the '\n",
      "                        'range [1, 5] for rows and [1, 5] for columns.\\n'\n",
      "                        '- Do NOT explain your reasoning or thought process. '\n",
      "                        'Only output the valid move.\\n',\n",
      "             'role': 'system'},\n",
      "            {'content': '0 0 0 2 F\\n'\n",
      "                        '0 0 1 3 F\\n'\n",
      "                        '0 0 1 F 3\\n'\n",
      "                        '2 3 3 4 *\\n'\n",
      "                        '* * * * *\\n'\n",
      "                        '\\n',\n",
      "             'role': 'user'}]}\n",
      "{'board_state': [['0', '0', '2', 'F', '*'],\n",
      "                 ['0', '0', '3', 'F', '*'],\n",
      "                 ['0', '0', '2', 'F', '*'],\n",
      "                 ['1', '1', '1', '3', '*'],\n",
      "                 ['*', '1', '0', '2', '*'],\n",
      "                 []],\n",
      " 'hidden_state': [['0', '0', '2', 'M', 'M'],\n",
      "                  ['0', '0', '3', 'M', 'M'],\n",
      "                  ['0', '0', '2', 'M', '4'],\n",
      "                  ['1', '1', '1', '3', 'M'],\n",
      "                  ['M', '1', '0', '2', 'M']],\n",
      " 'prompt': [{'content': 'You are a Minesweeper assistant.\\n'\n",
      "                        'The game board is always 5x5 in size.\\n'\n",
      "                        'You will be given ONLY the current board state as '\n",
      "                        'input from the user.\\n'\n",
      "                        '\\n'\n",
      "                        'Your task: Suggest exactly ONE valid next move for '\n",
      "                        'the minesweeper board given by the user.\\n'\n",
      "                        '\\n'\n",
      "                        'Move format rules (must follow exactly one of these '\n",
      "                        'two):\\n'\n",
      "                        '1. \"row: NUM, col: NUM, action: reveal\"       → to '\n",
      "                        'reveal a cell\\n'\n",
      "                        '2. \"row: NUM, col: NUM, action: flag\"         → to '\n",
      "                        'flag a cell as a mine\\n'\n",
      "                        '\\n'\n",
      "                        'Board representation:\\n'\n",
      "                        \"- '*' means the tile has not been revealed yet.\\n\"\n",
      "                        '- Numbers 0–8 show how many mines are adjacent to '\n",
      "                        'that square.\\n'\n",
      "                        \"- 'F' means the tile has already been flagged as a \"\n",
      "                        'mine.\\n'\n",
      "                        '- The board will be displayed as a grid of symbols '\n",
      "                        'only.\\n'\n",
      "                        '\\n'\n",
      "                        'Important condition:\\n'\n",
      "                        '- You may only suggest moves on cells that contain '\n",
      "                        \"'*'.  \\n\"\n",
      "                        '- Do NOT suggest moves on numbers or flagged tiles, '\n",
      "                        'as these have already been revealed or correctly '\n",
      "                        'flagged.\\n'\n",
      "                        '\\n'\n",
      "                        'Summary:\\n'\n",
      "                        '- Suggest one valid move next with the format \"row: '\n",
      "                        'NUM, col: NUM, action: reveal\" or \"row: NUM, col: '\n",
      "                        'NUM, action: flag\", where NUM is an integer in the '\n",
      "                        'range [1, 5] for rows and [1, 5] for columns.\\n'\n",
      "                        '- Do NOT explain your reasoning or thought process. '\n",
      "                        'Only output the valid move.\\n',\n",
      "             'role': 'system'},\n",
      "            {'content': '0 0 2 F *\\n'\n",
      "                        '0 0 3 F *\\n'\n",
      "                        '0 0 2 F *\\n'\n",
      "                        '1 1 1 3 *\\n'\n",
      "                        '* 1 0 2 *\\n'\n",
      "                        '\\n',\n",
      "             'role': 'user'}]}\n",
      "{'board_state': [['F', 'F', '3', 'F', '*'],\n",
      "                 ['2', '2', '4', 'F', '*'],\n",
      "                 ['0', '0', '3', 'F', '*'],\n",
      "                 ['0', '1', '3', 'F', '*'],\n",
      "                 ['0', '1', '*', '*', '*'],\n",
      "                 []],\n",
      " 'hidden_state': [['M', 'M', '3', 'M', 'M'],\n",
      "                  ['2', '2', '4', 'M', '4'],\n",
      "                  ['0', '0', '3', 'M', '3'],\n",
      "                  ['0', '1', '3', 'M', '2'],\n",
      "                  ['0', '1', 'M', '2', '1']],\n",
      " 'prompt': [{'content': 'You are a Minesweeper assistant.\\n'\n",
      "                        'The game board is always 5x5 in size.\\n'\n",
      "                        'You will be given ONLY the current board state as '\n",
      "                        'input from the user.\\n'\n",
      "                        '\\n'\n",
      "                        'Your task: Suggest exactly ONE valid next move for '\n",
      "                        'the minesweeper board given by the user.\\n'\n",
      "                        '\\n'\n",
      "                        'Move format rules (must follow exactly one of these '\n",
      "                        'two):\\n'\n",
      "                        '1. \"row: NUM, col: NUM, action: reveal\"       → to '\n",
      "                        'reveal a cell\\n'\n",
      "                        '2. \"row: NUM, col: NUM, action: flag\"         → to '\n",
      "                        'flag a cell as a mine\\n'\n",
      "                        '\\n'\n",
      "                        'Board representation:\\n'\n",
      "                        \"- '*' means the tile has not been revealed yet.\\n\"\n",
      "                        '- Numbers 0–8 show how many mines are adjacent to '\n",
      "                        'that square.\\n'\n",
      "                        \"- 'F' means the tile has already been flagged as a \"\n",
      "                        'mine.\\n'\n",
      "                        '- The board will be displayed as a grid of symbols '\n",
      "                        'only.\\n'\n",
      "                        '\\n'\n",
      "                        'Important condition:\\n'\n",
      "                        '- You may only suggest moves on cells that contain '\n",
      "                        \"'*'.  \\n\"\n",
      "                        '- Do NOT suggest moves on numbers or flagged tiles, '\n",
      "                        'as these have already been revealed or correctly '\n",
      "                        'flagged.\\n'\n",
      "                        '\\n'\n",
      "                        'Summary:\\n'\n",
      "                        '- Suggest one valid move next with the format \"row: '\n",
      "                        'NUM, col: NUM, action: reveal\" or \"row: NUM, col: '\n",
      "                        'NUM, action: flag\", where NUM is an integer in the '\n",
      "                        'range [1, 5] for rows and [1, 5] for columns.\\n'\n",
      "                        '- Do NOT explain your reasoning or thought process. '\n",
      "                        'Only output the valid move.\\n',\n",
      "             'role': 'system'},\n",
      "            {'content': 'F F 3 F *\\n'\n",
      "                        '2 2 4 F *\\n'\n",
      "                        '0 0 3 F *\\n'\n",
      "                        '0 1 3 F *\\n'\n",
      "                        '0 1 * * *\\n'\n",
      "                        '\\n',\n",
      "             'role': 'user'}]}\n",
      "{'board_state': [['F', 'F', '3', 'F', '*'],\n",
      "                 ['2', '2', '4', 'F', '*'],\n",
      "                 ['0', '0', '3', 'F', '*'],\n",
      "                 ['0', '1', '3', 'F', '2'],\n",
      "                 ['0', '1', 'F', '2', '*'],\n",
      "                 []],\n",
      " 'hidden_state': [['M', 'M', '3', 'M', 'M'],\n",
      "                  ['2', '2', '4', 'M', '4'],\n",
      "                  ['0', '0', '3', 'M', '3'],\n",
      "                  ['0', '1', '3', 'M', '2'],\n",
      "                  ['0', '1', 'M', '2', '1']],\n",
      " 'prompt': [{'content': 'You are a Minesweeper assistant.\\n'\n",
      "                        'The game board is always 5x5 in size.\\n'\n",
      "                        'You will be given ONLY the current board state as '\n",
      "                        'input from the user.\\n'\n",
      "                        '\\n'\n",
      "                        'Your task: Suggest exactly ONE valid next move for '\n",
      "                        'the minesweeper board given by the user.\\n'\n",
      "                        '\\n'\n",
      "                        'Move format rules (must follow exactly one of these '\n",
      "                        'two):\\n'\n",
      "                        '1. \"row: NUM, col: NUM, action: reveal\"       → to '\n",
      "                        'reveal a cell\\n'\n",
      "                        '2. \"row: NUM, col: NUM, action: flag\"         → to '\n",
      "                        'flag a cell as a mine\\n'\n",
      "                        '\\n'\n",
      "                        'Board representation:\\n'\n",
      "                        \"- '*' means the tile has not been revealed yet.\\n\"\n",
      "                        '- Numbers 0–8 show how many mines are adjacent to '\n",
      "                        'that square.\\n'\n",
      "                        \"- 'F' means the tile has already been flagged as a \"\n",
      "                        'mine.\\n'\n",
      "                        '- The board will be displayed as a grid of symbols '\n",
      "                        'only.\\n'\n",
      "                        '\\n'\n",
      "                        'Important condition:\\n'\n",
      "                        '- You may only suggest moves on cells that contain '\n",
      "                        \"'*'.  \\n\"\n",
      "                        '- Do NOT suggest moves on numbers or flagged tiles, '\n",
      "                        'as these have already been revealed or correctly '\n",
      "                        'flagged.\\n'\n",
      "                        '\\n'\n",
      "                        'Summary:\\n'\n",
      "                        '- Suggest one valid move next with the format \"row: '\n",
      "                        'NUM, col: NUM, action: reveal\" or \"row: NUM, col: '\n",
      "                        'NUM, action: flag\", where NUM is an integer in the '\n",
      "                        'range [1, 5] for rows and [1, 5] for columns.\\n'\n",
      "                        '- Do NOT explain your reasoning or thought process. '\n",
      "                        'Only output the valid move.\\n',\n",
      "             'role': 'system'},\n",
      "            {'content': 'F F 3 F *\\n'\n",
      "                        '2 2 4 F *\\n'\n",
      "                        '0 0 3 F *\\n'\n",
      "                        '0 1 3 F 2\\n'\n",
      "                        '0 1 F 2 *\\n'\n",
      "                        '\\n',\n",
      "             'role': 'user'}]}\n",
      "{'board_state': [['0', '0', '0', '2', 'F'],\n",
      "                 ['0', '1', '2', '4', 'F'],\n",
      "                 ['0', '1', '*', '*', '*'],\n",
      "                 ['0', '1', '2', '3', '*'],\n",
      "                 ['0', '0', '0', '1', '*'],\n",
      "                 []],\n",
      " 'hidden_state': [['0', '0', '0', '2', 'M'],\n",
      "                  ['0', '1', '2', '4', 'M'],\n",
      "                  ['0', '1', 'M', 'M', '3'],\n",
      "                  ['0', '1', '2', '3', 'M'],\n",
      "                  ['0', '0', '0', '1', '1']],\n",
      " 'prompt': [{'content': 'You are a Minesweeper assistant.\\n'\n",
      "                        'The game board is always 5x5 in size.\\n'\n",
      "                        'You will be given ONLY the current board state as '\n",
      "                        'input from the user.\\n'\n",
      "                        '\\n'\n",
      "                        'Your task: Suggest exactly ONE valid next move for '\n",
      "                        'the minesweeper board given by the user.\\n'\n",
      "                        '\\n'\n",
      "                        'Move format rules (must follow exactly one of these '\n",
      "                        'two):\\n'\n",
      "                        '1. \"row: NUM, col: NUM, action: reveal\"       → to '\n",
      "                        'reveal a cell\\n'\n",
      "                        '2. \"row: NUM, col: NUM, action: flag\"         → to '\n",
      "                        'flag a cell as a mine\\n'\n",
      "                        '\\n'\n",
      "                        'Board representation:\\n'\n",
      "                        \"- '*' means the tile has not been revealed yet.\\n\"\n",
      "                        '- Numbers 0–8 show how many mines are adjacent to '\n",
      "                        'that square.\\n'\n",
      "                        \"- 'F' means the tile has already been flagged as a \"\n",
      "                        'mine.\\n'\n",
      "                        '- The board will be displayed as a grid of symbols '\n",
      "                        'only.\\n'\n",
      "                        '\\n'\n",
      "                        'Important condition:\\n'\n",
      "                        '- You may only suggest moves on cells that contain '\n",
      "                        \"'*'.  \\n\"\n",
      "                        '- Do NOT suggest moves on numbers or flagged tiles, '\n",
      "                        'as these have already been revealed or correctly '\n",
      "                        'flagged.\\n'\n",
      "                        '\\n'\n",
      "                        'Summary:\\n'\n",
      "                        '- Suggest one valid move next with the format \"row: '\n",
      "                        'NUM, col: NUM, action: reveal\" or \"row: NUM, col: '\n",
      "                        'NUM, action: flag\", where NUM is an integer in the '\n",
      "                        'range [1, 5] for rows and [1, 5] for columns.\\n'\n",
      "                        '- Do NOT explain your reasoning or thought process. '\n",
      "                        'Only output the valid move.\\n',\n",
      "             'role': 'system'},\n",
      "            {'content': '0 0 0 2 F\\n'\n",
      "                        '0 1 2 4 F\\n'\n",
      "                        '0 1 * * *\\n'\n",
      "                        '0 1 2 3 *\\n'\n",
      "                        '0 0 0 1 *\\n'\n",
      "                        '\\n',\n",
      "             'role': 'user'}]}\n"
     ]
    }
   ],
   "source": [
    "# load dataset\n",
    "from src.finetuning.dataset import MinesweeperDatasetLoader\n",
    "from datasets import Dataset\n",
    "from pprint import pprint\n",
    "\n",
    "dataset_loader = MinesweeperDatasetLoader()\n",
    "dataset: Dataset = dataset_loader.to_hf_dataset()\n",
    "for i in range(5):\n",
    "    pprint(dataset[i])"
   ]
  },
  {
   "cell_type": "code",
   "execution_count": 9,
   "id": "9a47e0db",
   "metadata": {},
   "outputs": [
    {
     "name": "stderr",
     "output_type": "stream",
     "text": [
      "100%|██████████| 222/222 [00:00<00:00, 836.85it/s]"
     ]
    },
    {
     "name": "stdout",
     "output_type": "stream",
     "text": [
      "Max prompt length: 352\n",
      "Avg prompt length: 343.6081081081081\n",
      "Some samples: [344, 341, 337, 340, 344, 346, 342, 347, 347, 338]\n"
     ]
    },
    {
     "name": "stderr",
     "output_type": "stream",
     "text": [
      "\n"
     ]
    }
   ],
   "source": [
    "from tqdm import tqdm\n",
    "\n",
    "def count_tokens(example):\n",
    "    # Turn messages into text using your chat template\n",
    "    text = tokenizer.apply_chat_template(\n",
    "        example[\"prompt\"],  # or however your dataset stores conversations\n",
    "        tokenize=False,\n",
    "        add_generation_prompt=True,\n",
    "    )\n",
    "    # Tokenize and return number of tokens\n",
    "    return len(tokenizer(text)[\"input_ids\"])\n",
    "\n",
    "# Collect lengths for the whole dataset\n",
    "lengths = [count_tokens(example) for example in tqdm(dataset)]\n",
    "\n",
    "print(\"Max prompt length:\", max(lengths))\n",
    "print(\"Avg prompt length:\", sum(lengths) / len(lengths))\n",
    "print(\"Some samples:\", lengths[:10])\n"
   ]
  },
  {
   "cell_type": "code",
   "execution_count": 10,
   "id": "0c53c74d",
   "metadata": {},
   "outputs": [],
   "source": [
    "from src.finetuning.rewards import (\n",
    "    reward_format_correct,\n",
    "    reward_valid_cell,\n",
    "    reward_correct_move\n",
    ")"
   ]
  },
  {
   "cell_type": "code",
   "execution_count": 11,
   "id": "278d379f",
   "metadata": {},
   "outputs": [],
   "source": [
    "class NoThinkTokenizerWrapper:\n",
    "    def __init__(self, tokenizer):\n",
    "        self.tokenizer = tokenizer\n",
    "\n",
    "    def __getattr__(self, name):\n",
    "        return getattr(self.tokenizer, name)\n",
    "    \n",
    "    def __call__(self, *args, **kwargs):\n",
    "        return self.tokenizer(*args, **kwargs)\n",
    "\n",
    "    def apply_chat_template(self, messages, tokenize=False, add_generation_prompt=True, **kwargs):\n",
    "        return self.tokenizer.apply_chat_template(\n",
    "            messages,\n",
    "            tokenize=tokenize,\n",
    "            add_generation_prompt=add_generation_prompt,\n",
    "            enable_thinking=False,   # force disable thinking\n",
    "            **kwargs\n",
    "        )"
   ]
  },
  {
   "cell_type": "code",
   "execution_count": 12,
   "id": "a5d29313",
   "metadata": {},
   "outputs": [
    {
     "name": "stdout",
     "output_type": "stream",
     "text": [
      "Unsloth: We now expect `per_device_train_batch_size` to be a multiple of `num_generations`.\n",
      "We will change the batch size of 1 to the `num_generations` of 3\n"
     ]
    }
   ],
   "source": [
    "from trl import GRPOConfig, GRPOTrainer\n",
    "\n",
    "max_prompt_length = 420\n",
    "\n",
    "training_args = GRPOConfig(\n",
    "    learning_rate=5e-6,\n",
    "    adam_beta1=0.9,\n",
    "    adam_beta2=0.99,\n",
    "    weight_decay=0.1,\n",
    "    warmup_ratio=0.1,\n",
    "    lr_scheduler_type=\"cosine\",\n",
    "    optim=\"paged_adamw_8bit\",\n",
    "    logging_steps=1,\n",
    "    per_device_train_batch_size=1,\n",
    "    gradient_accumulation_steps=1,  # Increase to 4 for smoother training\n",
    "    num_generations=3,  # Decrease if out of memory\n",
    "    max_prompt_length=max_prompt_length,\n",
    "    max_completion_length=max_seq_length - max_prompt_length,\n",
    "    # num_train_epochs = 1, # Set to 1 for a full training run\n",
    "    max_steps=100,\n",
    "    save_steps=100,\n",
    "    max_grad_norm=0.1,\n",
    "    report_to=\"none\",  # Can use Weights & Biases\n",
    "    output_dir=\"outputs\",\n",
    ")\n",
    "\n",
    "trainer = GRPOTrainer(\n",
    "    model=model,\n",
    "    processing_class=NoThinkTokenizerWrapper(tokenizer),\n",
    "    reward_funcs=[\n",
    "        reward_format_correct,\n",
    "        reward_valid_cell,\n",
    "        reward_correct_move\n",
    "    ],\n",
    "    args=training_args,\n",
    "    train_dataset=dataset,\n",
    ")"
   ]
  },
  {
   "cell_type": "code",
   "execution_count": null,
   "id": "07df6726",
   "metadata": {},
   "outputs": [
    {
     "name": "stderr",
     "output_type": "stream",
     "text": [
      "==((====))==  Unsloth - 2x faster free finetuning | Num GPUs used = 1\n",
      "   \\\\   /|    Num examples = 222 | Num Epochs = 1 | Total steps = 100\n",
      "O^O/ \\_/ \\    Batch size per device = 3 | Gradient accumulation steps = 1\n",
      "\\        /    Data Parallel GPUs = 1 | Total batch size (3 x 1 x 1) = 3\n",
      " \"-____-\"     Trainable parameters = 34,865,152/1,700,000,000 (2.05% trained)\n"
     ]
    },
    {
     "name": "stdout",
     "output_type": "stream",
     "text": [
      "******************** Reward 3 Debugging Info (every 5 steps) ********************\n",
      "Prompt:\n",
      "F 1 0 0 0\n",
      "1 1 0 0 0\n",
      "0 0 0 1 1\n",
      "2 2 2 2 F\n",
      "F F 2 F *\n",
      "\n",
      "\n",
      "Responses:\n",
      "$row: 1, col: 1, action: reveal\n",
      "\n"
     ]
    },
    {
     "data": {
      "text/html": [
       "\n",
       "    <div>\n",
       "      \n",
       "      <progress value='3' max='100' style='width:300px; height:20px; vertical-align: middle;'></progress>\n",
       "      [  3/100 01:01 < 1:39:19, 0.02 it/s, Epoch 0.01/1]\n",
       "    </div>\n",
       "    <table border=\"1\" class=\"dataframe\">\n",
       "  <thead>\n",
       " <tr style=\"text-align: left;\">\n",
       "      <th>Step</th>\n",
       "      <th>Training Loss</th>\n",
       "      <th>reward</th>\n",
       "      <th>reward_std</th>\n",
       "      <th>completions / mean_length</th>\n",
       "      <th>completions / min_length</th>\n",
       "      <th>completions / max_length</th>\n",
       "      <th>completions / clipped_ratio</th>\n",
       "      <th>completions / mean_terminated_length</th>\n",
       "      <th>completions / min_terminated_length</th>\n",
       "      <th>completions / max_terminated_length</th>\n",
       "      <th>kl</th>\n",
       "      <th>rewards / reward_format_correct / mean</th>\n",
       "      <th>rewards / reward_format_correct / std</th>\n",
       "      <th>rewards / reward_valid_cell / mean</th>\n",
       "      <th>rewards / reward_valid_cell / std</th>\n",
       "      <th>rewards / reward_correct_move / mean</th>\n",
       "      <th>rewards / reward_correct_move / std</th>\n",
       "    </tr>\n",
       "  </thead>\n",
       "  <tbody>\n",
       "    <tr>\n",
       "      <td>1</td>\n",
       "      <td>0.000000</td>\n",
       "      <td>0.000000</td>\n",
       "      <td>0.000000</td>\n",
       "      <td>14.000000</td>\n",
       "      <td>14.000000</td>\n",
       "      <td>14.000000</td>\n",
       "      <td>0.000000</td>\n",
       "      <td>14.000000</td>\n",
       "      <td>14.000000</td>\n",
       "      <td>14.000000</td>\n",
       "      <td>0.000000</td>\n",
       "      <td>0.000000</td>\n",
       "      <td>0.000000</td>\n",
       "      <td>0.000000</td>\n",
       "      <td>0.000000</td>\n",
       "      <td>0.000000</td>\n",
       "      <td>0.000000</td>\n",
       "    </tr>\n",
       "  </tbody>\n",
       "</table><p>"
      ],
      "text/plain": [
       "<IPython.core.display.HTML object>"
      ]
     },
     "metadata": {},
     "output_type": "display_data"
    },
    {
     "name": "stdout",
     "output_type": "stream",
     "text": [
      "Unsloth: Will smartly offload gradients to save VRAM!\n"
     ]
    }
   ],
   "source": [
    "trainer.train()"
   ]
  },
  {
   "cell_type": "code",
   "execution_count": null,
   "id": "62cb6709",
   "metadata": {},
   "outputs": [],
   "source": [
    "model.save_lora(\"grpo_saved_lora_2\")"
   ]
  },
  {
   "cell_type": "code",
   "execution_count": null,
   "id": "81385d09",
   "metadata": {},
   "outputs": [
    {
     "data": {
      "application/vnd.jupyter.widget-view+json": {
       "model_id": "5369f1113f6e4505a86231770df97456",
       "version_major": 2,
       "version_minor": 0
      },
      "text/plain": [
       "Processed prompts:   0%|          | 0/1 [00:00<?, ?it/s, est. speed input: 0.00 toks/s, output: 0.00 toks/s]"
      ]
     },
     "metadata": {},
     "output_type": "display_data"
    },
    {
     "name": "stdout",
     "output_type": "stream",
     "text": [
      "<think>\n",
      "Okay, let me look at the board given. It's a 6x6 grid. The first row is all zeros except the second column, which has a 2. The second row is 2 2 1 0 1 1. Then F F 1 0 2 F. The third row is 3 3 2 0 3 F, and so on. The last row is all stars.\n",
      "\n",
      "I need to find a valid next move. The cells that are empty are the ones marked with *. Let's check each cell. \n",
      "\n",
      "Looking at row 1, columns 1 to 6. All are zeros except maybe the second column, which is 2. Wait\n"
     ]
    }
   ],
   "source": [
    "from vllm import SamplingParams\n",
    "\n",
    "text = tokenizer.apply_chat_template(\n",
    "    [\n",
    "        {\"role\": \"system\", \"content\": SYSTEM_PROMPT},\n",
    "        {\"role\": \"user\", \"content\": \"\"\"\n",
    "0 0 0 0 0 0\n",
    "2 2 1 0 1 1\n",
    "F F 1 0 2 F\n",
    "3 3 2 0 3 F\n",
    "1 F 2 1 4 F\n",
    "* * * * * *\n",
    "\"\"\"},\n",
    "    ],\n",
    "    tokenize=False,\n",
    "    add_generation_prompt=True,\n",
    "    enable_thinking=False,\n",
    ")\n",
    "\n",
    "sampling_params = SamplingParams(\n",
    "    temperature=0.8,\n",
    "    top_p=0.95,\n",
    "    max_tokens=512,\n",
    ")\n",
    "output = (\n",
    "    model.fast_generate(\n",
    "        text,\n",
    "        sampling_params=sampling_params,\n",
    "        lora_request=model.load_lora(\"grpo_saved_lora\"),\n",
    "    )[0]\n",
    "    .outputs[0]\n",
    "    .text\n",
    ")\n",
    "\n",
    "print(output)"
   ]
  }
 ],
 "metadata": {
  "kernelspec": {
   "display_name": "MinesweeperGPT",
   "language": "python",
   "name": "python3"
  },
  "language_info": {
   "codemirror_mode": {
    "name": "ipython",
    "version": 3
   },
   "file_extension": ".py",
   "mimetype": "text/x-python",
   "name": "python",
   "nbconvert_exporter": "python",
   "pygments_lexer": "ipython3",
   "version": "3.12.11"
  }
 },
 "nbformat": 4,
 "nbformat_minor": 5
}
